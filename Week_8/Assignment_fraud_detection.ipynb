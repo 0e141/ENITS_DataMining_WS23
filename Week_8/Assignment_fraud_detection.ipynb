{
  "cells": [
    {
      "cell_type": "markdown",
      "metadata": {
        "id": "_pP-9jNjz4ek"
      },
      "source": [
        "# Assignment: Credit Card Fraud Detection revised\n",
        "\n",
        "we return to the credit card use case (last time we used Random Forests).\n",
        "\n",
        "\n",
        "## Pre-Stage\n",
        "Use your pre-processing from the last assignment as input.\n"
      ]
    },
    {
      "cell_type": "code",
      "execution_count": 1,
      "metadata": {
        "scrolled": false,
        "colab": {
          "base_uri": "https://localhost:8080/"
        },
        "id": "VOcMTqrDz4em",
        "outputId": "4fab6862-3e77-44b7-a8b0-c2aff7992fe3"
      },
      "outputs": [
        {
          "output_type": "stream",
          "name": "stdout",
          "text": [
            "Cloning into 'DATA'...\n",
            "remote: Enumerating objects: 126, done.\u001b[K\n",
            "remote: Counting objects: 100% (39/39), done.\u001b[K\n",
            "remote: Compressing objects: 100% (28/28), done.\u001b[K\n",
            "remote: Total 126 (delta 11), reused 39 (delta 11), pack-reused 87\u001b[K\n",
            "Receiving objects: 100% (126/126), 185.56 MiB | 13.67 MiB/s, done.\n",
            "Resolving deltas: 100% (32/32), done.\n",
            "Updating files: 100% (86/86), done.\n"
          ]
        }
      ],
      "source": [
        "#download data\n",
        "#get the data\n",
        "!git clone https://github.com/keuperj/DATA.git"
      ]
    },
    {
      "cell_type": "code",
      "execution_count": 3,
      "metadata": {
        "colab": {
          "base_uri": "https://localhost:8080/"
        },
        "id": "eIqQFL1fz4em",
        "outputId": "a921e6fb-ef76-489c-9902-a5a12fb80ece"
      },
      "outputs": [
        {
          "output_type": "stream",
          "name": "stdout",
          "text": [
            "Archive:  DATA/creditcard.csv.zip\n",
            "  inflating: creditcard.csv          \n"
          ]
        }
      ],
      "source": [
        "\n",
        "!unzip DATA/creditcard.csv.zip\n"
      ]
    },
    {
      "cell_type": "code",
      "execution_count": 64,
      "metadata": {
        "colab": {
          "base_uri": "https://localhost:8080/"
        },
        "id": "qfb_QNqUz4en",
        "outputId": "ee860cd7-8c6d-4970-90c0-6d87748bec32"
      },
      "outputs": [
        {
          "output_type": "execute_result",
          "data": {
            "text/plain": [
              "284807"
            ]
          },
          "metadata": {},
          "execution_count": 64
        }
      ],
      "source": [
        "import pandas as pd\n",
        "data = pd.read_csv(\"creditcard.csv\")\n",
        "len(data)"
      ]
    },
    {
      "cell_type": "code",
      "source": [
        "from __future__ import absolute_import, division, print_function, unicode_literals\n",
        "\n",
        "# TensorFlow and tf.keras\n",
        "import tensorflow as tf\n",
        "from tensorflow import keras\n",
        "\n",
        "# Helper libraries\n",
        "import numpy as np\n",
        "import matplotlib.pyplot as plt\n",
        "\n",
        "from sklearn.metrics import confusion_matrix\n"
      ],
      "metadata": {
        "id": "-2uBMPoQ9TkI"
      },
      "execution_count": 5,
      "outputs": []
    },
    {
      "cell_type": "code",
      "execution_count": 136,
      "metadata": {
        "id": "0N83DNSOz4eo"
      },
      "outputs": [],
      "source": [
        "# your preprocessing code\n",
        "data.fillna(0, inplace=True) #replace NaN with zeros\n",
        "data.replace([np.inf, -np.inf], 0, inplace=True) #also replace of inf values\n",
        "\n",
        "data2 = data.copy()\n",
        "data2 = data2[len(data)//2:]\n",
        "\n",
        "x_labels_train = data2[\"Class\"]\n",
        "\n",
        "data2.drop(columns = [\"Class\"])\n",
        "X_train=data2.to_numpy(dtype='float') #data type float\n",
        "\n",
        "data3 = data.copy()\n",
        "data3 = data3[:len(data)//2]\n",
        "\n",
        "x_labels_test = data3[\"Class\"]\n",
        "\n",
        "data3.drop(columns = [\"Class\"])\n",
        "X_test=data3.to_numpy(dtype='float') #data type float\n",
        "\n",
        "#normalize data\n",
        "from sklearn.preprocessing import normalize\n",
        "X_train=normalize(X_train, axis=0)#normalize each variable\n",
        "X_test=normalize(X_test, axis=0)#normalize each variable\n"
      ]
    },
    {
      "cell_type": "code",
      "source": [
        "data4 = data.copy()\n",
        "data4 = data4[len(data)//2:]\n",
        "\n",
        "x_labels_train2 = data4[\"Class\"]\n",
        "\n",
        "data4.drop(columns = [\"Class\"])\n",
        "X_train2=data4.to_numpy(dtype='float') #data type float\n",
        "\n",
        "data5 = data.copy()\n",
        "data5 = data5[:len(data)//2]\n",
        "\n",
        "x_labels_test2 = data5[\"Class\"]\n",
        "\n",
        "data5.drop(columns = [\"Class\"])\n",
        "X_test2=data5.to_numpy(dtype='float') #data type float\n",
        "\n",
        "#normalize data\n",
        "from sklearn.preprocessing import normalize\n",
        "X_train2=normalize(X_train2, axis=0)#normalize each variable\n",
        "X_test2=normalize(X_test2, axis=0)#normalize each variable"
      ],
      "metadata": {
        "id": "dyEb6BDQY4os"
      },
      "execution_count": 151,
      "outputs": []
    },
    {
      "cell_type": "markdown",
      "metadata": {
        "id": "H2xQQ-IHz4eo"
      },
      "source": [
        "# Task: Train a MLP-Network\n",
        "* Train and evaluate the model\n",
        "* Compare the results to the Random Forrest\n",
        "* Tune the hyper-parameters (like number of layers, neurons per layer, learning-rate and number of epochs ) to optimize the results\n",
        "\n",
        "See: https://keras.io/api/"
      ]
    },
    {
      "cell_type": "code",
      "execution_count": 138,
      "metadata": {
        "id": "Ob4hsayaz4ep"
      },
      "outputs": [],
      "source": [
        "model = keras.Sequential([\n",
        "    keras.layers.Dense(128, activation='relu'),\n",
        "    keras.layers.Dense(128, activation='relu'),\n",
        "    keras.layers.Dense(2, activation='softmax')\n",
        "])"
      ]
    },
    {
      "cell_type": "code",
      "source": [
        "optimizer = keras.optimizers.Adam(learning_rate=0.001)\n",
        "model.compile(optimizer=optimizer,\n",
        "              loss='sparse_categorical_crossentropy',\n",
        "              metrics=['accuracy'])"
      ],
      "metadata": {
        "id": "H4mZg1BL9oiu"
      },
      "execution_count": 139,
      "outputs": []
    },
    {
      "cell_type": "code",
      "source": [
        "model.fit(X_train, x_labels_train, epochs=10)"
      ],
      "metadata": {
        "colab": {
          "base_uri": "https://localhost:8080/"
        },
        "id": "1Q7jODlZ9sfG",
        "outputId": "897a2979-960f-407e-fa12-d609ec3d36e1"
      },
      "execution_count": 140,
      "outputs": [
        {
          "output_type": "stream",
          "name": "stdout",
          "text": [
            "Epoch 1/10\n",
            "4451/4451 [==============================] - 17s 3ms/step - loss: 0.0052 - accuracy: 0.9996\n",
            "Epoch 2/10\n",
            "4451/4451 [==============================] - 14s 3ms/step - loss: 3.7439e-06 - accuracy: 1.0000\n",
            "Epoch 3/10\n",
            "4451/4451 [==============================] - 14s 3ms/step - loss: 2.0023e-07 - accuracy: 1.0000\n",
            "Epoch 4/10\n",
            "4451/4451 [==============================] - 14s 3ms/step - loss: 2.4576e-08 - accuracy: 1.0000\n",
            "Epoch 5/10\n",
            "4451/4451 [==============================] - 14s 3ms/step - loss: 2.6863e-09 - accuracy: 1.0000\n",
            "Epoch 6/10\n",
            "4451/4451 [==============================] - 14s 3ms/step - loss: 4.4883e-05 - accuracy: 1.0000\n",
            "Epoch 7/10\n",
            "4451/4451 [==============================] - 15s 3ms/step - loss: 2.2895e-09 - accuracy: 1.0000\n",
            "Epoch 8/10\n",
            "4451/4451 [==============================] - 14s 3ms/step - loss: 1.2013e-09 - accuracy: 1.0000\n",
            "Epoch 9/10\n",
            "4451/4451 [==============================] - 15s 3ms/step - loss: 8.5805e-10 - accuracy: 1.0000\n",
            "Epoch 10/10\n",
            "4451/4451 [==============================] - 17s 4ms/step - loss: 5.2906e-10 - accuracy: 1.0000\n"
          ]
        },
        {
          "output_type": "execute_result",
          "data": {
            "text/plain": [
              "<keras.src.callbacks.History at 0x79dca41fbf70>"
            ]
          },
          "metadata": {},
          "execution_count": 140
        }
      ]
    },
    {
      "cell_type": "code",
      "source": [
        "test_loss, test_acc = model.evaluate(X_test,  x_labels_test, verbose=2)\n",
        "\n",
        "print('\\nTest accuracy:', test_acc)"
      ],
      "metadata": {
        "colab": {
          "base_uri": "https://localhost:8080/"
        },
        "id": "tOxui2xN_rbw",
        "outputId": "f767c3c4-073e-4b31-a286-333ab565c746"
      },
      "execution_count": 141,
      "outputs": [
        {
          "output_type": "stream",
          "name": "stdout",
          "text": [
            "4451/4451 - 8s - loss: 6.1696e-04 - accuracy: 0.9998 - 8s/epoch - 2ms/step\n",
            "\n",
            "Test accuracy: 0.9998103976249695\n"
          ]
        }
      ]
    },
    {
      "cell_type": "code",
      "source": [
        "predictions = model.predict(X_test)\n",
        "predictions"
      ],
      "metadata": {
        "colab": {
          "base_uri": "https://localhost:8080/"
        },
        "id": "ipnnjjkB_0BE",
        "outputId": "c66ca1fe-436f-4980-c7f6-bf518be50871"
      },
      "execution_count": 142,
      "outputs": [
        {
          "output_type": "stream",
          "name": "stdout",
          "text": [
            "4451/4451 [==============================] - 8s 2ms/step\n"
          ]
        },
        {
          "output_type": "execute_result",
          "data": {
            "text/plain": [
              "array([[1.00000000e+00, 1.08705885e-10],\n",
              "       [1.00000000e+00, 1.20446306e-10],\n",
              "       [1.00000000e+00, 7.55481025e-11],\n",
              "       ...,\n",
              "       [1.00000000e+00, 1.08395737e-10],\n",
              "       [1.00000000e+00, 8.65831296e-11],\n",
              "       [1.00000000e+00, 5.98579311e-11]], dtype=float32)"
            ]
          },
          "metadata": {},
          "execution_count": 142
        }
      ]
    },
    {
      "cell_type": "code",
      "source": [
        "i = 2\n",
        "np.argmax(predictions[i])"
      ],
      "metadata": {
        "colab": {
          "base_uri": "https://localhost:8080/"
        },
        "id": "Jv1eye--BR9t",
        "outputId": "593def76-ce77-4191-da53-6e9257f15abe"
      },
      "execution_count": 143,
      "outputs": [
        {
          "output_type": "execute_result",
          "data": {
            "text/plain": [
              "0"
            ]
          },
          "metadata": {},
          "execution_count": 143
        }
      ]
    },
    {
      "cell_type": "code",
      "source": [
        "x_labels_test[i]"
      ],
      "metadata": {
        "colab": {
          "base_uri": "https://localhost:8080/"
        },
        "id": "5av__VWmBXvB",
        "outputId": "30b51f40-2d0c-40b7-fbac-834f385e6d83"
      },
      "execution_count": 144,
      "outputs": [
        {
          "output_type": "execute_result",
          "data": {
            "text/plain": [
              "0"
            ]
          },
          "metadata": {},
          "execution_count": 144
        }
      ]
    },
    {
      "cell_type": "code",
      "source": [
        "single_values = []\n",
        "\n",
        "for value in predictions:\n",
        "  single_values.append(np.argmax(value))\n",
        "\n",
        "confusion_matrix(x_labels_test, single_values)"
      ],
      "metadata": {
        "colab": {
          "base_uri": "https://localhost:8080/"
        },
        "id": "XQaBwUFiBaf9",
        "outputId": "9a53455f-6a4e-47fc-fab2-60d882582e08"
      },
      "execution_count": 145,
      "outputs": [
        {
          "output_type": "execute_result",
          "data": {
            "text/plain": [
              "array([[142107,     27],\n",
              "       [     0,    269]])"
            ]
          },
          "metadata": {},
          "execution_count": 145
        }
      ]
    },
    {
      "cell_type": "markdown",
      "source": [
        "RF"
      ],
      "metadata": {
        "id": "a6vZ9mt3Qcp7"
      }
    },
    {
      "cell_type": "code",
      "source": [
        "from sklearn.ensemble import RandomForestClassifier\n",
        "\n",
        "rf = RandomForestClassifier(n_estimators=30)\n",
        "rf.fit(X_train2, x_labels_train2)\n",
        "predictions_rf = rf.predict(X_test2)"
      ],
      "metadata": {
        "id": "R-x75DM8CS2q"
      },
      "execution_count": 165,
      "outputs": []
    },
    {
      "cell_type": "code",
      "source": [
        "confusion_matrix(x_labels_test2, predictions_rf)"
      ],
      "metadata": {
        "id": "UWx0IGxmRPSn",
        "outputId": "549f6427-b42b-4963-8817-eff1c35ca8b8",
        "colab": {
          "base_uri": "https://localhost:8080/"
        }
      },
      "execution_count": 166,
      "outputs": [
        {
          "output_type": "execute_result",
          "data": {
            "text/plain": [
              "array([[142111,     23],\n",
              "       [     0,    269]])"
            ]
          },
          "metadata": {},
          "execution_count": 166
        }
      ]
    },
    {
      "cell_type": "code",
      "source": [],
      "metadata": {
        "id": "KIFIHpWERTBM"
      },
      "execution_count": 162,
      "outputs": []
    }
  ],
  "metadata": {
    "kernelspec": {
      "display_name": "Python 3",
      "name": "python3"
    },
    "language_info": {
      "codemirror_mode": {
        "name": "ipython",
        "version": 3
      },
      "file_extension": ".py",
      "mimetype": "text/x-python",
      "name": "python",
      "nbconvert_exporter": "python",
      "pygments_lexer": "ipython3",
      "version": "3.7.6"
    },
    "colab": {
      "provenance": [],
      "gpuType": "T4"
    },
    "accelerator": "GPU"
  },
  "nbformat": 4,
  "nbformat_minor": 0
}