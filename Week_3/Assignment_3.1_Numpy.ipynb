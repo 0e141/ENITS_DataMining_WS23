{
  "cells": [
    {
      "cell_type": "markdown",
      "metadata": {
        "id": "OH0FMg6dhf9i"
      },
      "source": [
        "# Assignment I: Numpy"
      ]
    },
    {
      "cell_type": "markdown",
      "metadata": {
        "id": "jcJHnmgwhf9j"
      },
      "source": [
        "Perform the follwing tasks:\n"
      ]
    },
    {
      "cell_type": "code",
      "execution_count": 2,
      "metadata": {
        "id": "UOisE00ahf9k"
      },
      "outputs": [],
      "source": [
        "#1: import the numpy library\n",
        "import numpy as np"
      ]
    },
    {
      "cell_type": "code",
      "execution_count": 3,
      "metadata": {
        "id": "BkW4i0Q6hf9l"
      },
      "outputs": [],
      "source": [
        "#2: create a random 10x10 array named A\n",
        "A = np.random.rand(10,10)\n",
        "A"
      ]
    },
    {
      "cell_type": "code",
      "execution_count": 8,
      "metadata": {
        "id": "sQcRO3wUhf9l",
        "outputId": "7a66b693-4ad3-4bd2-ee85-915b127dcab7",
        "colab": {
          "base_uri": "https://localhost:8080/"
        }
      },
      "outputs": [
        {
          "output_type": "execute_result",
          "data": {
            "text/plain": [
              "array([[0.95820008, 0.87713672, 0.21846383, 0.70511664, 0.41152989,\n",
              "        0.76830447, 0.29160125, 0.98925405, 0.41433682, 0.48755506],\n",
              "       [0.57188902, 0.44775438, 0.79904607, 0.02540717, 0.03222875,\n",
              "        0.61430202, 0.0054626 , 0.66500427, 0.24915164, 0.98347843],\n",
              "       [0.62182732, 0.45163833, 0.39115641, 0.58176784, 0.4190631 ,\n",
              "        0.7171827 , 0.00944035, 0.86379598, 0.93612344, 0.77841849],\n",
              "       [0.52456401, 0.04038275, 0.59323441, 0.3478876 , 0.03556599,\n",
              "        0.29620955, 0.44883897, 0.94226045, 0.13568614, 0.85776638],\n",
              "       [0.89025316, 0.45418701, 0.93818281, 0.74080336, 0.35997278,\n",
              "        0.90093967, 0.8545987 , 0.45817025, 0.32412988, 0.50828127]])"
            ]
          },
          "metadata": {},
          "execution_count": 8
        }
      ],
      "source": [
        "#3: return only the odd rows of A\n",
        "A[::2]"
      ]
    },
    {
      "cell_type": "code",
      "execution_count": 9,
      "metadata": {
        "id": "KgY8naWrhf9m",
        "outputId": "e9502ca1-c18f-439b-f988-7f3458788a65",
        "colab": {
          "base_uri": "https://localhost:8080/"
        }
      },
      "outputs": [
        {
          "output_type": "execute_result",
          "data": {
            "text/plain": [
              "array([[9.18147390e-01, 7.66587562e-01, 1.24937067e-01, 1.44657032e-01,\n",
              "        2.55900527e-01, 7.03973587e-01, 1.52963521e-01, 4.59884701e-01,\n",
              "        3.68864665e-01, 2.03715109e-01],\n",
              "       [7.66587562e-01, 5.49290376e-01, 9.56796447e-02, 3.92710128e-02,\n",
              "        2.65417474e-02, 1.72282874e-01, 1.74827858e-02, 4.20819632e-01,\n",
              "        2.69079729e-01, 4.75025845e-02],\n",
              "       [1.24937067e-01, 9.56796447e-02, 6.38474620e-01, 7.16469907e-03,\n",
              "        1.26064819e-02, 5.03103392e-02, 3.24060215e-03, 5.83225703e-02,\n",
              "        2.33749782e-01, 3.40047310e-01],\n",
              "       [1.44657032e-01, 3.92710128e-02, 7.16469907e-03, 9.45589973e-01,\n",
              "        3.90191327e-01, 7.21813930e-01, 2.63575494e-01, 3.21507214e-01,\n",
              "        1.77309338e-01, 9.09689932e-02],\n",
              "       [2.55900527e-01, 2.65417474e-02, 1.26064819e-02, 3.90191327e-01,\n",
              "        1.75613880e-01, 5.84407458e-01, 3.35755236e-04, 8.37057092e-02,\n",
              "        3.36978961e-01, 5.02862989e-01],\n",
              "       [7.03973587e-01, 1.72282874e-01, 5.03103392e-02, 7.21813930e-01,\n",
              "        5.84407458e-01, 5.36572701e-01, 1.30345717e-01, 1.48786483e-01,\n",
              "        3.68006910e-01, 6.85975433e-01],\n",
              "       [1.52963521e-01, 1.74827858e-02, 3.24060215e-03, 2.63575494e-01,\n",
              "        3.35755236e-04, 1.30345717e-01, 2.01456425e-01, 7.97278769e-01,\n",
              "        1.15957198e-01, 5.98766279e-01],\n",
              "       [4.59884701e-01, 4.20819632e-01, 5.83225703e-02, 3.21507214e-01,\n",
              "        8.37057092e-02, 1.48786483e-01, 7.97278769e-01, 4.53475333e-01,\n",
              "        2.06684490e-01, 3.27297158e-01],\n",
              "       [3.68864665e-01, 2.69079729e-01, 2.33749782e-01, 1.77309338e-01,\n",
              "        3.36978961e-01, 3.68006910e-01, 1.15957198e-01, 2.06684490e-01,\n",
              "        1.05060179e-01, 2.13865355e-01],\n",
              "       [2.03715109e-01, 4.75025845e-02, 3.40047310e-01, 9.09689932e-02,\n",
              "        5.02862989e-01, 6.85975433e-01, 5.98766279e-01, 3.27297158e-01,\n",
              "        2.13865355e-01, 1.60779428e-02]])"
            ]
          },
          "metadata": {},
          "execution_count": 9
        }
      ],
      "source": [
        "#4: perform a matrix multiplication of A with it's transposed\n",
        "A * A.transpose()"
      ]
    },
    {
      "cell_type": "code",
      "execution_count": 11,
      "metadata": {
        "id": "4dyki1qthf9m",
        "outputId": "6b6cc275-b267-4f76-b54f-4d7385487309",
        "colab": {
          "base_uri": "https://localhost:8080/"
        }
      },
      "outputs": [
        {
          "output_type": "execute_result",
          "data": {
            "text/plain": [
              "array([[-0.68769723,  0.51207302,  0.13110539, -1.3172886 , -0.49691095,\n",
              "         1.49581598,  0.25747283, -0.02553643,  0.22455608,  0.05267023],\n",
              "       [ 0.56533942, -0.95972374,  0.9743061 , -0.338636  , -0.21855623,\n",
              "        -0.05298728, -1.29823272,  1.11109557,  0.14950324,  0.06024869],\n",
              "       [ 0.38345363, -1.70452616, -0.31699151, -0.48550645,  0.89916378,\n",
              "        -0.52812921, -0.19748832,  0.18282215,  1.7323369 , -0.46830072],\n",
              "       [ 1.04281599, -0.40906237, -1.31004451,  0.68514492,  0.68684649,\n",
              "        -0.73413704,  0.36102119, -0.38122977,  0.78475359, -1.19257668],\n",
              "       [ 0.51564977, -2.32806284, -0.04392507, -0.81469672,  0.45990105,\n",
              "         0.81427211, -0.98537181,  0.62829326,  0.82703324,  0.45300486],\n",
              "       [ 0.5266257 ,  2.24343179,  0.11688453,  1.90863263, -0.6143253 ,\n",
              "        -1.16394645,  0.24523824, -1.6574284 , -0.9973767 ,  0.1306028 ],\n",
              "       [-1.16579922,  0.63441436,  0.4039237 , -0.15307871, -0.78929909,\n",
              "         0.42241335,  0.11973871,  0.74592674, -0.34797852,  0.8783302 ],\n",
              "       [ 1.1835961 , -0.23857152, -0.80198304,  0.33239474,  0.26343623,\n",
              "        -0.86874063,  1.08036983, -0.42189357, -0.3470725 ,  0.08475325],\n",
              "       [-1.55608121,  0.40666549,  0.01318637, -0.64656128,  1.09962544,\n",
              "         0.37400506, -0.27305048,  0.58003372, -0.06973478,  0.40669621],\n",
              "       [-0.94144696,  0.26437757,  1.25350109,  0.07134568, -0.44350287,\n",
              "         0.7930351 , -0.19043982,  0.5191687 , -0.77622533,  0.09159132]])"
            ]
          },
          "metadata": {},
          "execution_count": 11
        }
      ],
      "source": [
        "#5: compute the matrix inverse of A\n",
        "np.linalg.inv(A)"
      ]
    },
    {
      "cell_type": "code",
      "execution_count": 13,
      "metadata": {
        "id": "GIGRDaBThf9n",
        "outputId": "468f9410-ae8b-4f19-f1a0-6fdf6ec59bee",
        "colab": {
          "base_uri": "https://localhost:8080/",
          "height": 212
        }
      },
      "outputs": [
        {
          "output_type": "error",
          "ename": "IndexError",
          "evalue": "ignored",
          "traceback": [
            "\u001b[0;31m---------------------------------------------------------------------------\u001b[0m",
            "\u001b[0;31mIndexError\u001b[0m                                Traceback (most recent call last)",
            "\u001b[0;32m<ipython-input-13-fc758490b961>\u001b[0m in \u001b[0;36m<cell line: 5>\u001b[0;34m()\u001b[0m\n\u001b[1;32m      3\u001b[0m \u001b[0;34m\u001b[0m\u001b[0m\n\u001b[1;32m      4\u001b[0m \u001b[0mrow_mask\u001b[0m \u001b[0;34m=\u001b[0m \u001b[0mnp\u001b[0m\u001b[0;34m.\u001b[0m\u001b[0marray\u001b[0m\u001b[0;34m(\u001b[0m\u001b[0;34m[\u001b[0m\u001b[0;32mTrue\u001b[0m\u001b[0;34m,\u001b[0m \u001b[0;32mFalse\u001b[0m\u001b[0;34m,\u001b[0m \u001b[0;32mTrue\u001b[0m\u001b[0;34m,\u001b[0m \u001b[0;32mFalse\u001b[0m\u001b[0;34m,\u001b[0m \u001b[0;32mFalse\u001b[0m\u001b[0;34m]\u001b[0m\u001b[0;34m)\u001b[0m\u001b[0;34m\u001b[0m\u001b[0;34m\u001b[0m\u001b[0m\n\u001b[0;32m----> 5\u001b[0;31m \u001b[0mA\u001b[0m\u001b[0;34m[\u001b[0m\u001b[0mrow_mask\u001b[0m\u001b[0;34m]\u001b[0m\u001b[0;34m\u001b[0m\u001b[0;34m\u001b[0m\u001b[0m\n\u001b[0m",
            "\u001b[0;31mIndexError\u001b[0m: boolean index did not match indexed array along dimension 0; dimension is 10 but corresponding boolean dimension is 5"
          ]
        }
      ],
      "source": [
        "#6: divide all entries of A which are lager than 0.5 by 2 (hint: use where() )"
      ]
    },
    {
      "cell_type": "code",
      "execution_count": null,
      "metadata": {
        "id": "tQoHG_80hf9n"
      },
      "outputs": [],
      "source": [
        "#7: compute the singular value decomposition of A\n",
        "#7.1: plot the singular values\n",
        "#7.2: reconstruct A' by using only the top 5 singular values"
      ]
    },
    {
      "cell_type": "code",
      "execution_count": null,
      "metadata": {
        "id": "u4cU8lbzhf9o"
      },
      "outputs": [],
      "source": []
    }
  ],
  "metadata": {
    "kernelspec": {
      "display_name": "Python 3",
      "language": "python",
      "name": "python3"
    },
    "language_info": {
      "codemirror_mode": {
        "name": "ipython",
        "version": 3
      },
      "file_extension": ".py",
      "mimetype": "text/x-python",
      "name": "python",
      "nbconvert_exporter": "python",
      "pygments_lexer": "ipython3",
      "version": "3.7.6"
    },
    "colab": {
      "provenance": []
    }
  },
  "nbformat": 4,
  "nbformat_minor": 0
}