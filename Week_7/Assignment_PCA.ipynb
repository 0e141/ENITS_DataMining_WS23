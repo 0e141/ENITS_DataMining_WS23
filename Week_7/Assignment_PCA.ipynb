{
  "cells": [
    {
      "cell_type": "markdown",
      "metadata": {
        "id": "ssfl2pr5Rpu4"
      },
      "source": [
        "# Assignment: PCA"
      ]
    },
    {
      "cell_type": "markdown",
      "metadata": {
        "id": "Gs4TqNCGRpu6"
      },
      "source": [
        "### Create Data"
      ]
    },
    {
      "cell_type": "code",
      "execution_count": 8,
      "metadata": {
        "id": "xFJibT6RRpu6"
      },
      "outputs": [],
      "source": [
        "#dummy regression data\n",
        "import numpy as np\n",
        "from sklearn.datasets import make_regression\n",
        "\n",
        "import matplotlib.pyplot as plt\n",
        "%matplotlib inline\n",
        "\n",
        "X, y = make_regression(n_features=64, effective_rank =15,random_state=0, shuffle=False, n_samples=200)"
      ]
    },
    {
      "cell_type": "markdown",
      "metadata": {
        "id": "sXIkZDFXRpu7"
      },
      "source": [
        "### E3.1 compute PCA\n",
        "see https://scikit-learn.org/stable/modules/generated/sklearn.decomposition.PCA.html"
      ]
    },
    {
      "cell_type": "code",
      "execution_count": 9,
      "metadata": {
        "id": "EJpxeQ_LRpu8"
      },
      "outputs": [],
      "source": [
        "import numpy as np\n",
        "from sklearn.decomposition import PCA\n",
        "\n",
        "fit = PCA().fit(X)"
      ]
    },
    {
      "cell_type": "markdown",
      "metadata": {
        "id": "8BNURpRsRpu8"
      },
      "source": [
        "### E3.2 Plot Eigen Values"
      ]
    },
    {
      "cell_type": "code",
      "execution_count": 10,
      "metadata": {
        "id": "sTffaRBgRpu9",
        "outputId": "e45ceaf9-1969-4b44-9aee-de6f53b6a8fa",
        "colab": {
          "base_uri": "https://localhost:8080/",
          "height": 448
        }
      },
      "outputs": [
        {
          "output_type": "execute_result",
          "data": {
            "text/plain": [
              "[<matplotlib.lines.Line2D at 0x7cbb1194cca0>]"
            ]
          },
          "metadata": {},
          "execution_count": 10
        },
        {
          "output_type": "display_data",
          "data": {
            "text/plain": [
              "<Figure size 640x480 with 1 Axes>"
            ],
            "image/png": "[encoded data removed]"
          },
          "metadata": {}
        }
      ],
      "source": [
        "plt.plot(fit.singular_values_)"
      ]
    },
    {
      "cell_type": "markdown",
      "metadata": {
        "id": "LTUcmWQTRpu9"
      },
      "source": [
        "### E3.3 select a $\\lambda$ cut-off and project to new base"
      ]
    },
    {
      "cell_type": "code",
      "execution_count": 11,
      "metadata": {
        "id": "Zk5CfahKRpu9",
        "outputId": "97baa6bc-ed34-4eeb-830d-533e01d1586e",
        "colab": {
          "base_uri": "https://localhost:8080/"
        }
      },
      "outputs": [
        {
          "output_type": "stream",
          "name": "stdout",
          "text": [
            "(200, 64) (200, 25)\n"
          ]
        }
      ],
      "source": [
        "fit2 = PCA(n_components=25).fit(X)\n",
        "xx = fit2.transform(X)\n",
        "print (X.shape, xx.shape)"
      ]
    },
    {
      "cell_type": "code",
      "source": [],
      "metadata": {
        "id": "oNv3d3lnSKOn"
      },
      "execution_count": 11,
      "outputs": []
    }
  ],
  "metadata": {
    "kernelspec": {
      "display_name": "Python 3",
      "language": "python",
      "name": "python3"
    },
    "language_info": {
      "codemirror_mode": {
        "name": "ipython",
        "version": 3
      },
      "file_extension": ".py",
      "mimetype": "text/x-python",
      "name": "python",
      "nbconvert_exporter": "python",
      "pygments_lexer": "ipython3",
      "version": "3.7.6"
    },
    "colab": {
      "provenance": []
    }
  },
  "nbformat": 4,
  "nbformat_minor": 0
}